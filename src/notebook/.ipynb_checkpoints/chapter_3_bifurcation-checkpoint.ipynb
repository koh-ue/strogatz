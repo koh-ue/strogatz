{
 "cells": [
  {
   "cell_type": "markdown",
   "id": "6a6c1213-79e7-4f00-83ad-81ea9f82ccd1",
   "metadata": {},
   "source": [
    "# Chapter 3 -- Bifurcation"
   ]
  },
  {
   "cell_type": "code",
   "execution_count": 1,
   "id": "a7ab4590-374c-4a57-bab7-2108f011cd14",
   "metadata": {},
   "outputs": [],
   "source": [
    "import numpy as np"
   ]
  },
  {
   "cell_type": "markdown",
   "id": "a98df7bd-47d5-4b28-8341-d5b5f6c3892b",
   "metadata": {},
   "source": [
    "## 3.1 Saddle-Node Bifurcation\n",
    "\n",
    "**ChatGPT's description**\n",
    "\n",
    "In the context of a one-dimensional dynamical system described by a scalar equation, the saddle-node bifurcation can be observed when a parameter of the system is varied. Initially, the system has two equilibrium points—one stable and one unstable. As the parameter crosses a critical value, these two equilibrium points collide and annihilate each other, giving rise to a single new equilibrium point, which is either stable or unstable depending on the specific dynamics of the system. "
   ]
  },
  {
   "cell_type": "markdown",
   "id": "b3615d9d-4f3a-4cd0-855c-da93b40c83a5",
   "metadata": {},
   "source": [
    "### 3.1.1 Case 1: Normal Form of Saddle-Node Bifurcation\n",
    "\n",
    "$$\\dot{x} = r \\pm x^2$$"
   ]
  },
  {
   "cell_type": "code",
   "execution_count": null,
   "id": "d1c83c54-6d0d-41fb-9695-9083bb27014d",
   "metadata": {},
   "outputs": [],
   "source": [
    "def normal_saddle_node(r, x, is_plus = True):\n",
    "    if is_minu"
   ]
  },
  {
   "cell_type": "markdown",
   "id": "036b294e-03ab-4d1b-89b7-d437a588f911",
   "metadata": {},
   "source": [
    "## 3.2 Transcritical Bifuraction"
   ]
  },
  {
   "cell_type": "markdown",
   "id": "1bc5c109-2c37-45a9-a10f-9f8ddbe0c88f",
   "metadata": {},
   "source": [
    "## 3.3 Pitchfork Bifurcation"
   ]
  },
  {
   "cell_type": "code",
   "execution_count": null,
   "id": "490aaa8a-b3c7-442d-a12c-6d1dad41bb57",
   "metadata": {},
   "outputs": [],
   "source": []
  }
 ],
 "metadata": {
  "kernelspec": {
   "display_name": "Python 3 (ipykernel)",
   "language": "python",
   "name": "python3"
  },
  "language_info": {
   "codemirror_mode": {
    "name": "ipython",
    "version": 3
   },
   "file_extension": ".py",
   "mimetype": "text/x-python",
   "name": "python",
   "nbconvert_exporter": "python",
   "pygments_lexer": "ipython3",
   "version": "3.11.3"
  }
 },
 "nbformat": 4,
 "nbformat_minor": 5
}
